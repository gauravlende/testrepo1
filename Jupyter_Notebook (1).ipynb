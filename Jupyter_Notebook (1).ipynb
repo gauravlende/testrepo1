{
 "cells": [
  {
   "cell_type": "markdown",
   "metadata": {},
   "source": [
    "<center>\n",
    "    <img src=\"https://cf-courses-data.s3.us.cloud-object-storage.appdomain.cloud/IBMDeveloperSkillsNetwork-DS0105EN-SkillsNetwork/labs/Module2/images/SN_web_lightmode.png\" width=\"300\" alt=\"cognitiveclass.ai logo\"  />\n",
    "</center>\n"
   ]
  },
  {
   "cell_type": "markdown",
   "metadata": {
    "tags": []
   },
   "source": [
    "#### Add your code below following the instructions given in the course\n"
   ]
  },
  {
   "cell_type": "code",
   "execution_count": 2,
   "metadata": {},
   "outputs": [],
   "source": [
    "class BloomFilter():\n",
    "    def __init__(self, array_size, hash_names):\n",
    "        self.array_size = array_size\n",
    "        self.bitarray = [0] * array_size\n",
    "        self.hash_names = hash_names\n",
    "        \n",
    "    def _get_hash_positions(self, value):\n",
    "        pos = []\n",
    "        for h in self.hash_names:\n",
    "            hash_hex = hashlib.new(h, ('%s' % value).encode(\n",
    "                'utf-8')).hexdigest()\n",
    "            # convert hashed value into an integer\n",
    "            asint = int(hash_hex, 16)\n",
    "            # modulo array_size to fit hash value into the bitarray\n",
    "            pos.append(asint % self.array_size)\n",
    "        return pos\n",
    "        \n",
    "    def add(self, value):\n",
    "        hash_pos = self._get_hash_positions(value)\n",
    "        for pos in hash_pos:\n",
    "            self.bitarray[pos] = 1\n",
    "        \n",
    "    def query(self, value):\n",
    "        hash_pos = self._get_hash_positions(value)\n",
    "        for pos in hash_pos:\n",
    "            if not self.bitarray[pos]:\n",
    "                return False\n",
    "        return True"
   ]
  },
  {
   "cell_type": "code",
   "execution_count": null,
   "metadata": {},
   "outputs": [],
   "source": []
  }
 ],
 "metadata": {
  "kernelspec": {
   "display_name": "Python",
   "language": "python",
   "name": "conda-env-python-py"
  },
  "language_info": {
   "codemirror_mode": {
    "name": "ipython",
    "version": 3
   },
   "file_extension": ".py",
   "mimetype": "text/x-python",
   "name": "python",
   "nbconvert_exporter": "python",
   "pygments_lexer": "ipython3",
   "version": "3.7.12"
  }
 },
 "nbformat": 4,
 "nbformat_minor": 4
}
